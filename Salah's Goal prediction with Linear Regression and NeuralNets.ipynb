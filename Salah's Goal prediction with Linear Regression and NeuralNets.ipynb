{
  "nbformat": 4,
  "nbformat_minor": 0,
  "metadata": {
    "colab": {
      "provenance": [],
      "authorship_tag": "ABX9TyMxaUnhiepIxKhOFvvdU+5/",
      "include_colab_link": true
    },
    "kernelspec": {
      "name": "python3",
      "display_name": "Python 3"
    },
    "language_info": {
      "name": "python"
    }
  },
  "cells": [
    {
      "cell_type": "markdown",
      "metadata": {
        "id": "view-in-github",
        "colab_type": "text"
      },
      "source": [
        "<a href=\"https://colab.research.google.com/github/benasphy/ML-algorithms-vs-NeuralNets/blob/main/Salah's%20Goal%20prediction%20with%20Linear%20Regression%20and%20NeuralNets.ipynb\" target=\"_parent\"><img src=\"https://colab.research.google.com/assets/colab-badge.svg\" alt=\"Open In Colab\"/></a>"
      ]
    },
    {
      "cell_type": "code",
      "execution_count": 1,
      "metadata": {
        "colab": {
          "base_uri": "https://localhost:8080/"
        },
        "id": "pvI9x52hQgzF",
        "outputId": "6b7a1442-6b5f-4ffe-c35f-313c235cc436"
      },
      "outputs": [
        {
          "output_type": "stream",
          "name": "stdout",
          "text": [
            "RMSE: 2.7928515511679697\n",
            "R^2 Score: -6.800019786861333\n",
            "Predicted Goals for new features: 21.404061630864724\n"
          ]
        },
        {
          "output_type": "stream",
          "name": "stderr",
          "text": [
            "/usr/local/lib/python3.10/dist-packages/sklearn/utils/validation.py:2739: UserWarning: X does not have valid feature names, but StandardScaler was fitted with feature names\n",
            "  warnings.warn(\n"
          ]
        }
      ],
      "source": [
        "#Using Linear Regression\n",
        "\n",
        "# Import Necessary Libraries\n",
        "import pandas as pd\n",
        "import numpy as np\n",
        "from sklearn.model_selection import train_test_split\n",
        "from sklearn.linear_model import LinearRegression\n",
        "from sklearn.metrics import mean_squared_error, r2_score\n",
        "from sklearn.preprocessing import StandardScaler\n",
        "\n",
        "# Create a Synthetic Dataset (Replace this with real data if available)\n",
        "data = {\n",
        "    'MinutesPlayed': [3100, 2900, 2700, 3000, 3200, 2500],\n",
        "    'ShotsPerGame': [4.2, 4.0, 3.8, 4.5, 4.3, 3.7],\n",
        "    'Assists': [10, 12, 8, 11, 9, 7],\n",
        "    'KeyPasses': [50, 55, 48, 60, 58, 45],\n",
        "    'PassAccuracy': [84.5, 85.0, 83.0, 86.0, 85.5, 82.0],\n",
        "    'Goals': [25, 23, 19, 26, 24, 18]\n",
        "}\n",
        "\n",
        "# Load the Dataset into a DataFrame\n",
        "df = pd.DataFrame(data)\n",
        "\n",
        "# Features (X) and Target (y)\n",
        "X = df[['MinutesPlayed', 'ShotsPerGame', 'Assists', 'KeyPasses', 'PassAccuracy']]\n",
        "y = df['Goals']\n",
        "\n",
        "# Standardize Features\n",
        "scaler = StandardScaler()\n",
        "X = scaler.fit_transform(X)\n",
        "\n",
        "# Split the Data\n",
        "X_train, X_test, y_train, y_test = train_test_split(X, y, test_size=0.2, random_state=42)\n",
        "\n",
        "# Train the Linear Regression Model\n",
        "model = LinearRegression()\n",
        "model.fit(X_train, y_train)\n",
        "\n",
        "# Make Predictions\n",
        "y_pred = model.predict(X_test)\n",
        "\n",
        "# Evaluate the Model\n",
        "mse = mean_squared_error(y_test, y_pred)\n",
        "rmse = np.sqrt(mse)\n",
        "r2 = r2_score(y_test, y_pred)\n",
        "\n",
        "print(f'RMSE: {rmse}')\n",
        "print(f'R^2 Score: {r2}')\n",
        "\n",
        "# Predict Goals for a New Set of Features\n",
        "new_features = [[3000, 4.0, 10, 55, 85.0]]  # Example input\n",
        "new_features = scaler.transform(new_features)\n",
        "predicted_goals = model.predict(new_features)\n",
        "print(f'Predicted Goals for new features: {predicted_goals[0]}')\n"
      ]
    },
    {
      "cell_type": "code",
      "source": [
        "#Using NeuralNets\n",
        "\n",
        "# Import Necessary Libraries\n",
        "import pandas as pd\n",
        "import numpy as np\n",
        "from sklearn.model_selection import train_test_split\n",
        "from sklearn.preprocessing import StandardScaler\n",
        "import tensorflow as tf\n",
        "from tensorflow.keras.models import Sequential\n",
        "from tensorflow.keras.layers import Dense\n",
        "\n",
        "# Create a Synthetic Dataset (Replace this with real data if available)\n",
        "data = {\n",
        "    'MinutesPlayed': [3100, 2900, 2700, 3000, 3200, 2500],\n",
        "    'ShotsPerGame': [4.2, 4.0, 3.8, 4.5, 4.3, 3.7],\n",
        "    'Assists': [10, 12, 8, 11, 9, 7],\n",
        "    'KeyPasses': [50, 55, 48, 60, 58, 45],\n",
        "    'PassAccuracy': [84.5, 85.0, 83.0, 86.0, 85.5, 82.0],\n",
        "    'Goals': [25, 23, 19, 26, 24, 18]\n",
        "}\n",
        "\n",
        "# Load the Dataset into a DataFrame\n",
        "df = pd.DataFrame(data)\n",
        "\n",
        "# Features (X) and Target (y)\n",
        "X = df[['MinutesPlayed', 'ShotsPerGame', 'Assists', 'KeyPasses', 'PassAccuracy']]\n",
        "y = df['Goals']\n",
        "\n",
        "# Standardize Features\n",
        "scaler = StandardScaler()\n",
        "X = scaler.fit_transform(X)\n",
        "\n",
        "# Split the Data\n",
        "X_train, X_test, y_train, y_test = train_test_split(X, y, test_size=0.2, random_state=42)\n",
        "\n",
        "# Build the Neural Network Model\n",
        "model = Sequential([\n",
        "    Dense(128, activation='relu', input_shape=(X_train.shape[1],)),\n",
        "    Dense(64, activation='relu'),\n",
        "    Dense(32, activation='relu'),\n",
        "    Dense(1)  # Output layer for regression\n",
        "])\n",
        "\n",
        "# Compile the Model\n",
        "model.compile(optimizer='adam', loss='mse', metrics=['mae'])\n",
        "\n",
        "# Train the Model\n",
        "history = model.fit(X_train, y_train, epochs=500, batch_size=2, verbose=0)\n",
        "\n",
        "# Evaluate the Model\n",
        "loss, mae = model.evaluate(X_test, y_test, verbose=0)\n",
        "print(f'Mean Absolute Error on Test Set: {mae:.2f}')\n",
        "\n",
        "# Make Predictions on Test Data\n",
        "y_pred = model.predict(X_test)\n",
        "print(f\"Predicted Goals for Test Data: {y_pred.flatten()}\")\n",
        "\n",
        "# Predict Goals for a New Set of Features\n",
        "new_features = [[3000, 4.0, 10, 55, 85.0]]  # Example input\n",
        "new_features = scaler.transform(new_features)\n",
        "predicted_goals = model.predict(new_features)\n",
        "print(f'Predicted Goals for new features: {predicted_goals[0][0]:.2f}')\n"
      ],
      "metadata": {
        "colab": {
          "base_uri": "https://localhost:8080/"
        },
        "id": "RF2L0ldHRh-G",
        "outputId": "242d6604-5a24-4518-baff-87aca329f11d"
      },
      "execution_count": 4,
      "outputs": [
        {
          "output_type": "stream",
          "name": "stderr",
          "text": [
            "/usr/local/lib/python3.10/dist-packages/keras/src/layers/core/dense.py:87: UserWarning: Do not pass an `input_shape`/`input_dim` argument to a layer. When using Sequential models, prefer using an `Input(shape)` object as the first layer in the model instead.\n",
            "  super().__init__(activity_regularizer=activity_regularizer, **kwargs)\n",
            "WARNING:tensorflow:5 out of the last 5 calls to <function TensorFlowTrainer.make_predict_function.<locals>.one_step_on_data_distributed at 0x788a364b9750> triggered tf.function retracing. Tracing is expensive and the excessive number of tracings could be due to (1) creating @tf.function repeatedly in a loop, (2) passing tensors with different shapes, (3) passing Python objects instead of tensors. For (1), please define your @tf.function outside of the loop. For (2), @tf.function has reduce_retracing=True option that can avoid unnecessary retracing. For (3), please refer to https://www.tensorflow.org/guide/function#controlling_retracing and https://www.tensorflow.org/api_docs/python/tf/function for  more details.\n"
          ]
        },
        {
          "output_type": "stream",
          "name": "stdout",
          "text": [
            "Mean Absolute Error on Test Set: 8.45\n",
            "\u001b[1m1/1\u001b[0m \u001b[32m━━━━━━━━━━━━━━━━━━━━\u001b[0m\u001b[37m\u001b[0m \u001b[1m0s\u001b[0m 87ms/step\n"
          ]
        },
        {
          "output_type": "stream",
          "name": "stderr",
          "text": [
            "/usr/local/lib/python3.10/dist-packages/sklearn/utils/validation.py:2739: UserWarning: X does not have valid feature names, but StandardScaler was fitted with feature names\n",
            "  warnings.warn(\n"
          ]
        },
        {
          "output_type": "stream",
          "name": "stdout",
          "text": [
            "Predicted Goals for Test Data: [16.241291 14.858173]\n"
          ]
        },
        {
          "output_type": "stream",
          "name": "stderr",
          "text": [
            "WARNING:tensorflow:6 out of the last 6 calls to <function TensorFlowTrainer.make_predict_function.<locals>.one_step_on_data_distributed at 0x788a364b9750> triggered tf.function retracing. Tracing is expensive and the excessive number of tracings could be due to (1) creating @tf.function repeatedly in a loop, (2) passing tensors with different shapes, (3) passing Python objects instead of tensors. For (1), please define your @tf.function outside of the loop. For (2), @tf.function has reduce_retracing=True option that can avoid unnecessary retracing. For (3), please refer to https://www.tensorflow.org/guide/function#controlling_retracing and https://www.tensorflow.org/api_docs/python/tf/function for  more details.\n"
          ]
        },
        {
          "output_type": "stream",
          "name": "stdout",
          "text": [
            "\u001b[1m1/1\u001b[0m \u001b[32m━━━━━━━━━━━━━━━━━━━━\u001b[0m\u001b[37m\u001b[0m \u001b[1m0s\u001b[0m 90ms/step\n",
            "Predicted Goals for new features: 18.41\n"
          ]
        }
      ]
    }
  ]
}